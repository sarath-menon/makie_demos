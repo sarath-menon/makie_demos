{
 "cells": [
  {
   "cell_type": "code",
   "execution_count": 1,
   "id": "8e50f43c",
   "metadata": {},
   "outputs": [],
   "source": [
    "a() = sum(i for i in 1:1000);\n",
    "b = Task(a);"
   ]
  },
  {
   "cell_type": "code",
   "execution_count": 20,
   "id": "d594e17b",
   "metadata": {},
   "outputs": [
    {
     "name": "stdout",
     "output_type": "stream",
     "text": [
      "false\n",
      "selva\n"
     ]
    },
    {
     "data": {
      "text/plain": [
       "false"
      ]
     },
     "execution_count": 20,
     "metadata": {},
     "output_type": "execute_result"
    }
   ],
   "source": [
    "# a1() = sum(i for i in 1:1000);\n",
    "a1() = println(\"selva\");\n",
    "\n",
    "b = @task a1();\n",
    "\n",
    "t = @task begin; sleep(2); println(\"done\"); end\n",
    "\n",
    "# Determine whether a task has started executing.\n",
    "println(istaskstarted(b))\n",
    "\n",
    "# Add a Task to the scheduler's queue\n",
    "schedule(b);\n",
    "\n",
    "# Switch to the scheduler to allow another scheduled task to run\n",
    "yield();\n",
    "\n",
    "# Determine whether a task has exited.\n",
    "istaskdone(b)"
   ]
  },
  {
   "cell_type": "code",
   "execution_count": null,
   "id": "6552dd8b",
   "metadata": {},
   "outputs": [],
   "source": []
  },
  {
   "cell_type": "code",
   "execution_count": 8,
   "id": "ca71465d",
   "metadata": {},
   "outputs": [
    {
     "data": {
      "text/plain": [
       "Task (runnable) @0x0000000114842230"
      ]
     },
     "execution_count": 8,
     "metadata": {},
     "output_type": "execute_result"
    }
   ],
   "source": [
    "current_task()"
   ]
  },
  {
   "cell_type": "code",
   "execution_count": null,
   "id": "3ef6f3f0",
   "metadata": {},
   "outputs": [],
   "source": []
  }
 ],
 "metadata": {
  "kernelspec": {
   "display_name": "Julia 1.8.3",
   "language": "julia",
   "name": "julia-1.8"
  },
  "language_info": {
   "file_extension": ".jl",
   "mimetype": "application/julia",
   "name": "julia",
   "version": "1.8.3"
  }
 },
 "nbformat": 4,
 "nbformat_minor": 5
}
