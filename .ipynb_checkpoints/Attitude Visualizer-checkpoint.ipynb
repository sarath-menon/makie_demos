{
 "cells": [
  {
   "cell_type": "code",
   "execution_count": 2,
   "id": "9ad1043c",
   "metadata": {},
   "outputs": [],
   "source": [
    "using GLMakie\n",
    "using Colors\n",
    "using GeometryBasics\n",
    "using Rotations\n",
    "\n",
    "GLMakie.activate!()"
   ]
  },
  {
   "cell_type": "code",
   "execution_count": 63,
   "id": "5f216e8e",
   "metadata": {},
   "outputs": [
    {
     "data": {
      "text/plain": [
       "GLMakie.Screen(...)"
      ]
     },
     "execution_count": 63,
     "metadata": {},
     "output_type": "execute_result"
    }
   ],
   "source": [
    "# Create empty scene \n",
    "scene = Scene()\n",
    "\n",
    "points = [Point2f0(cos(t), sin(t)) for t in LinRange(0, 2pi, 20)]\n",
    "colors = 1:20\n",
    "scatter!(scene, points, color = colors, markersize = 15)\n",
    "\n",
    "# add a camera\n",
    "cam3d!(scene)\n",
    "\n",
    "# Add a cube to the scene\n",
    "cube = mesh!(scene, FRect3D(Vec3f0(-0.5), Vec3f0(1)), color=:red)\n",
    "\n",
    "\n",
    "#scale!(scene, 0.5, 0.5, 0.5)\n",
    "\n",
    "# slider to control the scale \n",
    "scale_slider = Slider(fig[2, 1], range = 0:0.01:10, startvalue = 3)\n",
    "\n",
    "# rotate 0.5 rad around the y axis\n",
    "rotate!(scene, Vec3f(1, 0, 0), 0.5) \n",
    "display(scene)"
   ]
  },
  {
   "cell_type": "code",
   "execution_count": 35,
   "id": "a756ace1",
   "metadata": {},
   "outputs": [
    {
     "data": {
      "text/plain": [
       "GLMakie.Screen(...)"
      ]
     },
     "execution_count": 35,
     "metadata": {},
     "output_type": "execute_result"
    }
   ],
   "source": [
    "fig = Figure()\n",
    "\n",
    "ax = Axis(fig[1, 1])\n",
    "\n",
    "sl_x = Slider(fig[2, 1], range = 0:0.01:10, startvalue = 3)\n",
    "sl_y = Slider(fig[1, 2], range = 0:0.01:10, horizontal = false, startvalue = 6)\n",
    "\n",
    "point = lift(sl_x.value, sl_y.value) do x, y\n",
    "    Point2f(x, y)\n",
    "end\n",
    "\n",
    "scatter!(point, color = :red, markersize = 20)\n",
    "\n",
    "limits!(ax, 0, 10, 0, 10)\n",
    "\n",
    "display(fig)"
   ]
  },
  {
   "cell_type": "code",
   "execution_count": 33,
   "id": "6a9a1f46",
   "metadata": {},
   "outputs": [
    {
     "data": {
      "text/plain": [
       "ObserverFunction defined at In[33]:6 operating on Observable(1)"
      ]
     },
     "execution_count": 33,
     "metadata": {},
     "output_type": "execute_result"
    }
   ],
   "source": [
    "# create observable\n",
    "o = Observable(1)\n",
    "\n",
    "# add listener\n",
    "obs_func = on(o) do val\n",
    "    println(\"Observable has value $val\")\n",
    "end"
   ]
  },
  {
   "cell_type": "code",
   "execution_count": 32,
   "id": "ac46de34",
   "metadata": {},
   "outputs": [
    {
     "name": "stdout",
     "output_type": "stream",
     "text": [
      "Observable has value 42\n"
     ]
    },
    {
     "data": {
      "text/plain": [
       "42"
      ]
     },
     "execution_count": 32,
     "metadata": {},
     "output_type": "execute_result"
    }
   ],
   "source": [
    "o[] = 42"
   ]
  },
  {
   "cell_type": "code",
   "execution_count": 113,
   "id": "5c6bac9d",
   "metadata": {},
   "outputs": [
    {
     "data": {
      "text/plain": [
       "GLMakie.Screen(...)"
      ]
     },
     "execution_count": 113,
     "metadata": {},
     "output_type": "execute_result"
    }
   ],
   "source": [
    "figure, axis, plot_object = scatter(1:4)\n",
    "\n",
    "# Add a cube to the scene\n",
    "cube = mesh!(axis.scene, FRect3D(Vec3f0(-0.5), Vec3f0(1)), color=:red)\n",
    "\n",
    "# rotate 0.5 rad around the y axis\n",
    "rotate!(scene, Vec3f(1, 0, 0), 0.5) \n",
    "\n",
    "display(figure)"
   ]
  },
  {
   "cell_type": "code",
   "execution_count": 361,
   "id": "a963f396",
   "metadata": {},
   "outputs": [
    {
     "data": {
      "text/plain": [
       "GLMakie.Screen(...)"
      ]
     },
     "execution_count": 361,
     "metadata": {},
     "output_type": "execute_result"
    }
   ],
   "source": [
    "set_theme!(\n",
    "#     font = \"Arial\", # inherited by layoutables if not overridden\n",
    "    fontsize = 25, # inherited by layoutables if not overridden\n",
    ")\n",
    "\n",
    "fig = Figure(resolution = Makie.primary_resolution())\n",
    "\n",
    "rightTopPane = fig[1,2] = GridLayout()\n",
    "\n",
    "ax1 = Axis(fig[1, 1], aspect = 1)\n",
    "\n",
    "# deactivate interaction for the visualization\n",
    "deregister_interaction!(ax1, :rectanglezoom)\n",
    "\n",
    "# Add a cube to the scene\n",
    "cube = mesh!(ax1.scene, FRect3D(Vec3f0(-0.5), Vec3f0(1)), color=:red)\n",
    "\n",
    "# rotate 0.5 rad around the y axis\n",
    "rotate!(ax1.scene, Vec3f(1, 2, 0), 0.5) \n",
    "\n",
    "scale_slider = Slider(fig[2, 1:2], range = 0:0.01:1, startvalue = 0.5)\n",
    "\n",
    "# slider grid for setting attitude\n",
    "attitude_slider = SliderGrid(\n",
    "    rightTopPane[1,1],\n",
    "    (label = \"Roll\", range = -pi:0.01:pi, format = \"{:.2f} rad\", startvalue = 0.0, linewidth = 25.0),\n",
    "    (label = \"Pitch\", range = -pi:0.01:pi, format = \"{:.2f} rad\", startvalue = 0.0, linewidth = 25.0),\n",
    "    (label = \"Yaw\", range = -pi:0.01:pi, format = \"{:.2f} rad\", startvalue = 0.0, linewidth = 25.0),\n",
    "    width = 600,\n",
    "    value_column_width = 200,\n",
    "    tellheight = false\n",
    ")\n",
    "\n",
    "\n",
    "# Quaternion info display box\n",
    "Label(rightTopPane[2,1],\n",
    "    \"Quaternion \\n\\nq_w:\\t0.0 \\nq_1:\\t0.0 \\nq_2:\\t0.0 \\nq_3:\\t0.0 \",\n",
    "    justification = :left,\n",
    "    lineheight = 0.9\n",
    ")\n",
    "\n",
    "attitude_slider_obs = [s.value for s in attitude_slider.sliders]\n",
    "\n",
    "bars = lift(attitude_slider_obs...) do angles...\n",
    "    \n",
    "    # create ZYX euler angle representation \n",
    "    R_euler = RotZYX(angles[1],angles[2],angles[3])\n",
    "    \n",
    "    # Convert the rotation to unit quaternion\n",
    "    R_quat = QuatRotation(R_euler)\n",
    "    \n",
    "    R_quat_makie = Quaternion(R_quat.q.s, R_quat.q.v1,R_quat.q.v2,R_quat.q.v3)\n",
    "    \n",
    "    # apply rotation\n",
    "    rotate!(ax1.scene,  R_quat_makie)     \n",
    "end\n",
    "\n",
    "\n",
    "\n",
    "scale = lift(scale_slider.value) do x\n",
    "    # set the scale\n",
    "    scale!(ax1.scene, x,x,x)\n",
    "end\n",
    "\n",
    "\n",
    "\n",
    "display(fig)"
   ]
  },
  {
   "cell_type": "code",
   "execution_count": 97,
   "id": "a691380c",
   "metadata": {},
   "outputs": [
    {
     "data": {
      "text/plain": [
       "RigidBody3"
      ]
     },
     "execution_count": 97,
     "metadata": {},
     "output_type": "execute_result"
    }
   ],
   "source": [
    "struct Position\n",
    "    x::Float64\n",
    "    y::Float64\n",
    "    z::Float64\n",
    "end\n",
    "\n",
    "# Orientation = QuatRotation\n",
    "\n",
    "    \n",
    "mutable struct RigidBody3\n",
    "    position::Position\n",
    "    orientation::QuatRotation\n",
    "    \n",
    "    # default constructor\n",
    "    function RigidBody3()\n",
    "        position = Position(0,0,0);\n",
    "        orientation = QuatRotation(1,0,0,0);\n",
    "        \n",
    "        new(position,orientation)\n",
    "    end\n",
    "    \n",
    "    # position and orientation\n",
    "    function RigidBody3(position_::Position, orientation_::QuatRotation)\n",
    "        \n",
    "        new(position_,orientation_)\n",
    "    end\n",
    "    \n",
    "    # position only\n",
    "    function RigidBody3(position_::Position)\n",
    "\n",
    "        orientation = QuatRotation(1,0,0,0);\n",
    "        \n",
    "        new(position_,orientation)\n",
    "    end\n",
    "    \n",
    "    # orientation only\n",
    "    function RigidBody3(orientation_::QuatRotation)\n",
    "        position = Position(0,0,0);\n",
    "\n",
    "        new(position,orientation_)\n",
    "    end\n",
    "end\n",
    "\n",
    "RigidBody = RigidBody3"
   ]
  },
  {
   "cell_type": "code",
   "execution_count": 98,
   "id": "d738b15b",
   "metadata": {},
   "outputs": [
    {
     "data": {
      "text/plain": [
       "RigidBody3(Position(1.0, 1.0, 0.0), [-1.0 0.0 0.0; 0.0 -1.0 0.0; 0.0 0.0 1.0])"
      ]
     },
     "execution_count": 98,
     "metadata": {},
     "output_type": "execute_result"
    }
   ],
   "source": [
    "b1 = RigidBody3()\n",
    "b2 = RigidBody3(Position(1,1,0))\n",
    "b3 = RigidBody3(QuatRotation(0,0,0,1))\n",
    "b4 = RigidBody3(Position(1,1,0), QuatRotation(0,0,0,1))\n"
   ]
  },
  {
   "cell_type": "code",
   "execution_count": null,
   "id": "c2b8cb0f",
   "metadata": {},
   "outputs": [],
   "source": []
  }
 ],
 "metadata": {
  "kernelspec": {
   "display_name": "Julia 1.8.3",
   "language": "julia",
   "name": "julia-1.8"
  },
  "language_info": {
   "file_extension": ".jl",
   "mimetype": "application/julia",
   "name": "julia",
   "version": "1.8.3"
  }
 },
 "nbformat": 4,
 "nbformat_minor": 5
}
