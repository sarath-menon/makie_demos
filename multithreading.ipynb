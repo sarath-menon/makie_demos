{
 "cells": [
  {
   "cell_type": "code",
   "execution_count": 1,
   "id": "4c7545b9",
   "metadata": {},
   "outputs": [],
   "source": [
    "a() = sum(i for i in 1:1000);\n",
    "b = Task(a);"
   ]
  },
  {
   "cell_type": "code",
   "execution_count": 22,
   "id": "2c5d3347",
   "metadata": {},
   "outputs": [
    {
     "name": "stdout",
     "output_type": "stream",
     "text": [
      "false\n"
     ]
    },
    {
     "data": {
      "text/plain": [
       "false"
      ]
     },
     "execution_count": 22,
     "metadata": {},
     "output_type": "execute_result"
    },
    {
     "name": "stdout",
     "output_type": "stream",
     "text": [
      "done\n"
     ]
    }
   ],
   "source": [
    "# a1() = sum(i for i in 1:1000);\n",
    "a1() = println(\"selva\");\n",
    "\n",
    "b = @task a1();\n",
    "\n",
    "t = @task begin; sleep(2); println(\"done\"); end\n",
    "\n",
    "# Determine whether a task has started executing.\n",
    "println(istaskstarted(t))\n",
    "\n",
    "# Add a Task to the scheduler's queue\n",
    "schedule(t);\n",
    "\n",
    "# Switch to the scheduler to allow another scheduled task to run\n",
    "yield();\n",
    "\n",
    "# Determine whether a task has exited.\n",
    "istaskdone(b)"
   ]
  },
  {
   "cell_type": "code",
   "execution_count": null,
   "id": "3867cd34",
   "metadata": {},
   "outputs": [],
   "source": []
  },
  {
   "cell_type": "code",
   "execution_count": 8,
   "id": "dd5e9f26",
   "metadata": {},
   "outputs": [
    {
     "data": {
      "text/plain": [
       "Task (runnable) @0x0000000114842230"
      ]
     },
     "execution_count": 8,
     "metadata": {},
     "output_type": "execute_result"
    }
   ],
   "source": [
    "current_task()"
   ]
  },
  {
   "cell_type": "code",
   "execution_count": 15,
   "id": "7ae23c00",
   "metadata": {},
   "outputs": [
    {
     "name": "stderr",
     "output_type": "stream",
     "text": [
      "WARNING: replacing module A.\n"
     ]
    },
    {
     "ename": "LoadError",
     "evalue": "UndefVarError: Observable not defined",
     "output_type": "error",
     "traceback": [
      "UndefVarError: Observable not defined",
      "",
      "Stacktrace:",
      " [1] top-level scope",
      "   @ In[15]:5"
     ]
    }
   ],
   "source": [
    "using Observables\n",
    "\n",
    "\n",
    "module A\n",
    "    val = Observable(4.0)\n",
    "    print(val[])\n",
    "\n",
    "end \n",
    "\n",
    "# module B\n",
    "#     val = Observable(4)\n",
    "# end \n",
    "\n",
    "# A.val = B.val\n",
    "# connect(A.val ,B.val)"
   ]
  },
  {
   "cell_type": "code",
   "execution_count": 3,
   "id": "cf51c3ba",
   "metadata": {},
   "outputs": [
    {
     "data": {
      "text/plain": [
       "Observable(0.0)\n"
      ]
     },
     "execution_count": 3,
     "metadata": {},
     "output_type": "execute_result"
    }
   ],
   "source": [
    "sim_time = Observable(0.0)"
   ]
  },
  {
   "cell_type": "code",
   "execution_count": null,
   "id": "8ecdcfcd",
   "metadata": {},
   "outputs": [],
   "source": []
  }
 ],
 "metadata": {
  "kernelspec": {
   "display_name": "Julia 1.8.3",
   "language": "julia",
   "name": "julia-1.8"
  },
  "language_info": {
   "file_extension": ".jl",
   "mimetype": "application/julia",
   "name": "julia",
   "version": "1.8.3"
  }
 },
 "nbformat": 4,
 "nbformat_minor": 5
}
